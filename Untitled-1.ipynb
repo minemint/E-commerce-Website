{
 "cells": [
  {
   "cell_type": "code",
   "execution_count": null,
   "metadata": {},
   "outputs": [],
   "source": [
    "#หาค่ามากสุดจากสist\n",
    "def max_num(list):\n",
    "    max = list[0]\n",
    "    for i in list:\n",
    "        if i > max:\n",
    "            max = i\n",
    "    return max\n",
    "def max_num(list2):\n",
    "    max = list2[0]\n",
    "    for i in list2:\n",
    "        if i > max:\n",
    "            max = i\n",
    "    return max\n",
    "       \n"
   ]
  },
  {
   "cell_type": "code",
   "execution_count": null,
   "metadata": {},
   "outputs": [],
   "source": [
    "list = [1,2,3]\n",
    "print(max_num(list))\n",
    "print(\"ตัวเลขคือ \"+input())"
   ]
  },
  {
   "cell_type": "code",
   "execution_count": null,
   "metadata": {},
   "outputs": [],
   "source": [
    "a = int(input())\n",
    "print(\"min \"+\"wowo \"+ str(a))\n",
    "print(str(a))"
   ]
  },
  {
   "cell_type": "code",
   "execution_count": null,
   "metadata": {},
   "outputs": [],
   "source": [
    "a=1\n",
    "b=3\n",
    "c=5\n",
    "d=\"min\"\n",
    "print(a,b,c,d)\n",
    "sum=a+b+c\n",
    "print(sum)\n",
    "print(a,b,c,d)\n",
    "sum1=a+b+c\n",
    "print(sum1)\n",
    "a=b=c=12\n",
    "print(a,b,c,d)\n",
    "sum=a+b+c\n",
    "print(sum)"
   ]
  },
  {
   "cell_type": "code",
   "execution_count": null,
   "metadata": {},
   "outputs": [],
   "source": [
    "nane = str(input(\"pls input data\"))\n",
    "age = int(input(\"pls input data\"))\n",
    "print(\"score is \",nane)\n",
    "print(\"and age is \"+str(age))\n",
    "result = nane+\" \"+str(age)\n",
    "print(result)\n"
   ]
  },
  {
   "cell_type": "code",
   "execution_count": null,
   "metadata": {},
   "outputs": [],
   "source": [
    "x=100\n",
    "y=200\n",
    "print(\"ก่อน\",x,y)\n",
    "y=x\n",
    "print(\"หลัง x=y\",x,y)\n",
    "y=\"abc\"\n",
    "print(\"หลัง y=abc\",x,y)\n",
    "x=y\n",
    "print(\"หลัง x=y\",x,y)"
   ]
  },
  {
   "cell_type": "code",
   "execution_count": null,
   "metadata": {},
   "outputs": [],
   "source": [
    "i = complex(1.5,2)\n",
    "j = complex(-22,0)\n",
    "k = complex(0,33)\n",
    "print(i,j,k)\n",
    "print(\"i = \",i)\n",
    "print(-99.8+123j)\n"
   ]
  },
  {
   "cell_type": "code",
   "execution_count": null,
   "metadata": {},
   "outputs": [],
   "source": [
    "str1 = \"123456789\"\n",
    "str2 = \"0123456789\"\n",
    "print(str1[0:3])\n",
    "print(str2[0:3])\n",
    "print(len(str1))\n",
    "print(len(str2))\n",
    "print(str1[0])\n",
    "print(str1[1])\n",
    "print(str1[2])\n",
    "print(str1[3])\n",
    "print(str1[4])\n",
    "print(str1[5])\n",
    "print(str1[6])\n",
    "print(str1[7])\n",
    "print(str1[8])\n",
    "print(\"----------------------------------------\")\n",
    "print(str2[0])\n",
    "print(str2[1])\n",
    "print(str2[2])\n",
    "print(str2[3])\n",
    "print(str2[4])\n",
    "print(str2[5])\n",
    "print(str2[6])\n",
    "print(str2[7])\n",
    "print(str2[8])\n",
    "print(str2[9])"
   ]
  },
  {
   "cell_type": "code",
   "execution_count": null,
   "metadata": {},
   "outputs": [],
   "source": [
    "print(str1[0:6])\n",
    "print(str1[:3])\n",
    "print(str1[-3:])\n"
   ]
  },
  {
   "cell_type": "code",
   "execution_count": null,
   "metadata": {},
   "outputs": [],
   "source": [
    "number =[1,2,3,4,5,6,7,8,9,10]\n",
    "price =[10,30,30,40,50,60,60,80,90,100]\n",
    "pname_ = [\"A\",\"B\",\"C\",\"D\",\"E\",\"F\",\"G\",\"H\",\"I\",\"J\"]\n",
    "print([1,2,3,4,5,6,7,8,9,10][3])\n",
    "print(number[3])\n",
    "print(len(number))\n",
    "print(len(price))\n",
    "print(len(pname_))\n",
    "print(price)\n"
   ]
  },
  {
   "cell_type": "code",
   "execution_count": null,
   "metadata": {},
   "outputs": [],
   "source": [
    "print(number[-2],price[-2])\n",
    "print(number[-10],price[-10])\n",
    "price[0] = 99\n",
    "print(price)\n"
   ]
  },
  {
   "cell_type": "code",
   "execution_count": null,
   "metadata": {},
   "outputs": [],
   "source": [
    "A = [\"APPLE\",\"ORANGE\",\"BANANA\",\"GRAPE\",\"MANGO\"]\n",
    "B=[\"RED\",\"YELLOW\",\"GREEN\",\"BLUE\",\"PURPLE\"]\n",
    "print(A)\n",
    "A.append(\"PEAR\")\n",
    "A.insert(1,\"LEMON\")\n",
    "print(A)\n",
    "A.remove(\"BANANA\")\n",
    "print(A)\n",
    "A.remove(A[0])\n",
    "print(A)\n",
    "del A[0]\n",
    "print(A)\n",
    "print(B)\n",
    "SUM_LIST1 = A+B\n",
    "print(SUM_LIST1)"
   ]
  },
  {
   "cell_type": "code",
   "execution_count": null,
   "metadata": {},
   "outputs": [],
   "source": [
    "tuple1 = (4,5,3,31,55,66,77)\n",
    "tuple2 = (\"A\",\"B\",\"C\",\"D\",\"E\")\n",
    "print(tuple1)\n",
    "print(tuple1.index(4)) #เลข4อยุ่ indexที่ 0\n",
    "print(tuple1.index(55)) #เลข55อยุ่ indexที่ 4\n",
    "print(tuple2.index(\"D\")) \n",
    "print(tuple2.index(\"E\"))\n",
    "#tuple1.Append(99) AttributeError: 'tuple' object has no attribute 'Append'\n",
    "print(len(tuple1))\n",
    "print(len(tuple2))\n",
    "print(tuple1[0:9])\n",
    "print(tuple1[0:5])\n",
    "print(tuple1[0:6])\n",
    "print(tuple1[-7])\n",
    "print(tuple1[-5])\n",
    "print(tuple1[0])\n",
    "print(tuple1[6])\n",
    "\n",
    "\n",
    "\n"
   ]
  },
  {
   "cell_type": "code",
   "execution_count": null,
   "metadata": {},
   "outputs": [],
   "source": [
    "day_set = {\"Monday\",\"Tuesday\",\"Wednesday\",\"Thursday\",\"Friday\",\"Saturday\",\"Sunday\"}\n",
    "print(day_set)\n",
    "len(day_set)\n",
    "print(day_set.__contains__(\"Monday\"))\n",
    "print(\"Monday\" in day_set)\n",
    "day_set.add(\"Wunday\")\n",
    "print(day_set)\n",
    "day_set.update(['cat','yummy','Ohhday'])\n",
    "print(day_set)\n",
    "day_set.remove(\"yummy\")\n",
    "print(day_set)\n",
    "day_set.discard(\"cat\")\n",
    "print(day_set)\n",
    "day_set.discard(\"woew\") #ไม่มีอะไรจะทำงาน\n",
    "#day_set.remove(\"woew\") #ทำงานผิดพลาด\n",
    "print(day_set)"
   ]
  },
  {
   "cell_type": "code",
   "execution_count": null,
   "metadata": {},
   "outputs": [],
   "source": [
    "week_set ={\"mood\",\"Monday\",\"Tuesday\",\"Wednesday\",\"Thursday\",\"Friday\",\"Saturday\",\"Sunday\"}\n",
    "day= day_set.union(week_set)\n",
    "print(day)\n",
    "day= day_set.intersection(week_set)\n",
    "print(day)"
   ]
  },
  {
   "cell_type": "code",
   "execution_count": null,
   "metadata": {},
   "outputs": [],
   "source": [
    "dict1 ={\"first\":\"A\",\"two\":\"B\",\"three\":\"C\",\"four\":\"D\",\"five\":\"E\",6:\"F\",7:\"G\",8:\"H\",9:\"I\",10:\"J\"}\n",
    "print(dict1)\n",
    "lendict = len(dict1)\n",
    "print(lendict)\n",
    "dict1[\"first\"] = \"Z\"\n",
    "print(dict1)\n",
    "dict1.update({\"first\":\"Aa\"})\n",
    "print(dict1)\n",
    "print(x)\n",
    "a={\"A\":\"Aant\",\"B\":\"Bbat\",\"C\":\"Ccat\"}\n",
    "b={\"A\":\"Ant\",\"B\":\"Bat\",\"C\":\"Cat\"}\n",
    "c={1:\"one\",2:\"two\",3:\"three\"}\n",
    "d={\"one\":1,\"two\":2,\"three\":3}\n",
    "y=a|b\n",
    "print(y)\n",
    "d[\"four\"]=\"yoyo\"\n",
    "print(d)\n",
    "d.pop(\"two\")\n",
    "print(d)\n",
    "del d[\"four\"]\n",
    "print(d)"
   ]
  }
 ],
 "metadata": {
  "kernelspec": {
   "display_name": "Python 3.10.5 64-bit",
   "language": "python",
   "name": "python3"
  },
  "language_info": {
   "codemirror_mode": {
    "name": "ipython",
    "version": 3
   },
   "file_extension": ".py",
   "mimetype": "text/x-python",
   "name": "python",
   "nbconvert_exporter": "python",
   "pygments_lexer": "ipython3",
   "version": "3.10.5"
  },
  "orig_nbformat": 4,
  "vscode": {
   "interpreter": {
    "hash": "82031ad74da0d0e66758ba1c139859fbf167f28a555b83076c6b8eb02c771ab8"
   }
  }
 },
 "nbformat": 4,
 "nbformat_minor": 2
}
